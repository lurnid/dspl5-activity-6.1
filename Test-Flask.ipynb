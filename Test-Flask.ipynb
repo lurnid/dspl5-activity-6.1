{
 "cells": [
  {
   "cell_type": "code",
   "execution_count": null,
   "metadata": {
    "colab": {
     "background_save": true,
     "base_uri": "https://localhost:8080/"
    },
    "id": "Nokxv_i75XE7",
    "outputId": "d4d095ec-d47d-4cb6-9185-9dffa32a2445"
   },
   "outputs": [],
   "source": [
    "\n",
    "from flask import Flask, render_template, request\n",
    "import pickle\n",
    "\n",
    "app= Flask(__name__)\n",
    "model = pickle.load(open('model.pkl', 'rb'))\n",
    "\n",
    "@app.route(\"/\")\n",
    "def web_page_gen ():\n",
    "  return render_template('index.txt')\n",
    "\n",
    "@app.route(\"/predict\", methods =['POST'])\n",
    "def predict():\n",
    "  Practice1 = int(request.form['Practice 1'])\n",
    "  Practice2 = int(request.form['Practice 2'])\n",
    "  prediction = model.predict([[Practice1, Practice2]])\n",
    "  output = round(prediction[0])\n",
    "  return render_template('index.txt',\n",
    "   answer = f'Scores of {Practice1} and {Practice2} in the practice test \\\n",
    "     indicate a score of {output} in the final test')\n",
    "\n",
    "if __name__ == \"__main__\":\n",
    "    app.run()"
   ]
  },
  {
   "cell_type": "code",
   "execution_count": null,
   "metadata": {},
   "outputs": [],
   "source": []
  }
 ],
 "metadata": {
  "colab": {
   "provenance": []
  },
  "kernelspec": {
   "display_name": "Python [conda env:base] *",
   "language": "python",
   "name": "conda-base-py"
  },
  "language_info": {
   "codemirror_mode": {
    "name": "ipython",
    "version": 3
   },
   "file_extension": ".py",
   "mimetype": "text/x-python",
   "name": "python",
   "nbconvert_exporter": "python",
   "pygments_lexer": "ipython3",
   "version": "3.12.7"
  }
 },
 "nbformat": 4,
 "nbformat_minor": 4
}
