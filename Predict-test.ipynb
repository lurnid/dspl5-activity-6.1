{
 "cells": [
  {
   "cell_type": "code",
   "execution_count": 2,
   "metadata": {
    "colab": {
     "base_uri": "https://localhost:8080/",
     "height": 0
    },
    "id": "5ryLXw8-e0_W",
    "outputId": "19998f3b-5c69-434c-e162-979e148d0600"
   },
   "outputs": [
    {
     "name": "stdout",
     "output_type": "stream",
     "text": [
      "72\n"
     ]
    }
   ],
   "source": [
    "from sklearn import linear_model\n",
    "import numpy as np\n",
    "import pandas as pd\n",
    "\n",
    "import pickle\n",
    "\n",
    "#Read the data into a dataframe\n",
    "df = pd.read_csv(\"Test-results.csv\", encoding=\"utf-8\")\n",
    "\n",
    "#Use .loc method to set X to hold the data used to predict\n",
    "X = df.loc[:,[\"Practice1\", \"Practice2\"]]\n",
    "\n",
    "\n",
    "y = df[\"FinalTest\"]\n",
    "\n",
    "#Fit a linear regression model\n",
    "regr = linear_model.LinearRegression()\n",
    "regr.fit(X,y)\n",
    "\n",
    "#Save the model. \"wb\" strand for \"write binary\"\n",
    "pickle.dump(regr, open(\"model.pkl\", \"wb\"))\n",
    "\n",
    "#Make some sample test data\n",
    "data=[[55,67]]\n",
    "testdata = pd.DataFrame (data, columns=[\"Practice1\",\"Practice2\"])\n",
    "\n",
    "#Predict and round results\n",
    "\n",
    "y_pred = np.ndarray.round(regr.predict(testdata))\n",
    "\n",
    "#Print result and round again to get rid of decimal point\n",
    "print(round(y_pred[0]))"
   ]
  },
  {
   "cell_type": "code",
   "execution_count": null,
   "metadata": {},
   "outputs": [],
   "source": []
  }
 ],
 "metadata": {
  "colab": {
   "provenance": []
  },
  "kernelspec": {
   "display_name": "Python [conda env:base] *",
   "language": "python",
   "name": "conda-base-py"
  },
  "language_info": {
   "codemirror_mode": {
    "name": "ipython",
    "version": 3
   },
   "file_extension": ".py",
   "mimetype": "text/x-python",
   "name": "python",
   "nbconvert_exporter": "python",
   "pygments_lexer": "ipython3",
   "version": "3.12.7"
  }
 },
 "nbformat": 4,
 "nbformat_minor": 4
}
